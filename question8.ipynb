{
  "nbformat": 4,
  "nbformat_minor": 0,
  "metadata": {
    "colab": {
      "provenance": [],
      "authorship_tag": "ABX9TyNhLIDzTqY+KiihgojvC9Yd",
      "include_colab_link": true
    },
    "kernelspec": {
      "name": "python3",
      "display_name": "Python 3"
    },
    "language_info": {
      "name": "python"
    }
  },
  "cells": [
    {
      "cell_type": "markdown",
      "metadata": {
        "id": "view-in-github",
        "colab_type": "text"
      },
      "source": [
        "<a href=\"https://colab.research.google.com/github/gkkhnyldz/P.I.-Works/blob/main/question8.ipynb\" target=\"_parent\"><img src=\"https://colab.research.google.com/assets/colab-badge.svg\" alt=\"Open In Colab\"/></a>"
      ]
    },
    {
      "cell_type": "code",
      "source": [
        "veri_seti = [\"<url>https://google.com</url>\", \"<url>https://stackoverflow.com</url>\", \"<url>https://example.com</url>\"]\n",
        "\n",
        "for i in range(len(veri_seti)):\n",
        "    veri_seti[i] = veri_seti[i].replace(\"<url>https://\", \"\").replace(\"</url>\", \"\")\n",
        "\n",
        "print(veri_seti)\n"
      ],
      "metadata": {
        "colab": {
          "base_uri": "https://localhost:8080/"
        },
        "id": "JAGUKX44FBr1",
        "outputId": "711b0d10-7a08-4c17-b064-50746c9c0e6d"
      },
      "execution_count": 13,
      "outputs": [
        {
          "output_type": "stream",
          "name": "stdout",
          "text": [
            "['google.com', 'stackoverflow.com', 'example.com']\n"
          ]
        }
      ]
    }
  ]
}