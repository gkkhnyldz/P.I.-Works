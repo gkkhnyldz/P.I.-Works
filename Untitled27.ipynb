{
  "nbformat": 4,
  "nbformat_minor": 0,
  "metadata": {
    "colab": {
      "provenance": [],
      "authorship_tag": "ABX9TyOiT09EdXcPb2Lkt7N3UUIk",
      "include_colab_link": true
    },
    "kernelspec": {
      "name": "python3",
      "display_name": "Python 3"
    },
    "language_info": {
      "name": "python"
    }
  },
  "cells": [
    {
      "cell_type": "markdown",
      "metadata": {
        "id": "view-in-github",
        "colab_type": "text"
      },
      "source": [
        "<a href=\"https://colab.research.google.com/github/gkkhnyldz/P.I.-Works/blob/main/Untitled27.ipynb\" target=\"_parent\"><img src=\"https://colab.research.google.com/assets/colab-badge.svg\" alt=\"Open In Colab\"/></a>"
      ]
    },
    {
      "cell_type": "code",
      "execution_count": 12,
      "metadata": {
        "colab": {
          "base_uri": "https://localhost:8080/"
        },
        "id": "sxPaT70-tjvS",
        "outputId": "29d523ba-aebc-4a70-d000-3c90881b5d73"
      },
      "outputs": [
        {
          "output_type": "stream",
          "name": "stdout",
          "text": [
            "1466568.0\n"
          ]
        }
      ],
      "source": [
        "import pandas as pd\n",
        "\n",
        "ourdata = pd.read_csv(\"country_vaccination_stats.csv\")\n",
        "\n",
        "ourdata[\"daily_vaccinations\"] = pd.to_numeric(data[\"daily_vaccinations\"])\n",
        "ourdata[\"daily_vaccinations\"] = ourdata[\"daily_vaccinations\"].fillna(0)\n",
        "\n",
        "ourdata[\"date\"] = pd.to_datetime(ourdata[\"date\"], format=\"%m/%d/%Y\")\n",
        "ourdata[\"daily_vaccinations\"] = ourdata[\"daily_vaccinations\"].fillna(\"NaN\")\n",
        "\n",
        "vaccinations_on_20210601 = ourdata.loc[ourdata[\"date\"] == \"01-06-2021\", \"daily_vaccinations\"].sum()\n",
        "print(vaccinations_on_20210601)\n"
      ]
    }
  ]
}