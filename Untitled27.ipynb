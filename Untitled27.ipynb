{
  "nbformat": 4,
  "nbformat_minor": 0,
  "metadata": {
    "colab": {
      "provenance": [],
      "authorship_tag": "ABX9TyOGByyJ9LVVQMvrSHt5yaV1",
      "include_colab_link": true
    },
    "kernelspec": {
      "name": "python3",
      "display_name": "Python 3"
    },
    "language_info": {
      "name": "python"
    }
  },
  "cells": [
    {
      "cell_type": "markdown",
      "metadata": {
        "id": "view-in-github",
        "colab_type": "text"
      },
      "source": [
        "<a href=\"https://colab.research.google.com/github/gkkhnyldz/P.I.-Works/blob/main/Untitled27.ipynb\" target=\"_parent\"><img src=\"https://colab.research.google.com/assets/colab-badge.svg\" alt=\"Open In Colab\"/></a>"
      ]
    },
    {
      "cell_type": "code",
      "execution_count": null,
      "metadata": {
        "id": "sxPaT70-tjvS"
      },
      "outputs": [],
      "source": [
        "import pandas as pd\n",
        "\n",
        "ourdata = pd.read_csv(\"veriseti.csv\")\n",
        "ourdata[\"date\"] = pd.to_datetime(ourdata[\"date\"], format=\"%Y/%m/%d\")\n",
        "ourdata[\"daily_vaccinations\"] = ourdata[\"daily_vaccinations\"].fillna(\"NaN\")\n",
        "\n",
        "vaccinations_on_20210601 = ourdata.loc[ourdata[\"date\"] == \"2021-06-01\", \"daily_vaccinations\"].sum()\n"
      ]
    }
  ]
}