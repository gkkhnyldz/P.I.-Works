{
  "nbformat": 4,
  "nbformat_minor": 0,
  "metadata": {
    "colab": {
      "provenance": [],
      "authorship_tag": "ABX9TyODdsKyeCTA4sMez86cF4Z3",
      "include_colab_link": true
    },
    "kernelspec": {
      "name": "python3",
      "display_name": "Python 3"
    },
    "language_info": {
      "name": "python"
    }
  },
  "cells": [
    {
      "cell_type": "markdown",
      "metadata": {
        "id": "view-in-github",
        "colab_type": "text"
      },
      "source": [
        "<a href=\"https://colab.research.google.com/github/gkkhnyldz/P.I.-Works/blob/main/Untitled25.ipynb\" target=\"_parent\"><img src=\"https://colab.research.google.com/assets/colab-badge.svg\" alt=\"Open In Colab\"/></a>"
      ]
    },
    {
      "cell_type": "code",
      "execution_count": null,
      "metadata": {
        "id": "MuRTc4Hw58Un"
      },
      "outputs": [],
      "source": [
        "UPDATE country_vaccination_stats\n",
        "SET daily_vaccinations = (\n",
        "    SELECT MEDIAN(daily_vaccinations) FROM vaccinations v2\n",
        "    WHERE v2.country = vaccinations.country\n",
        "    AND v2.daily_vaccinations IS NOT NULL\n",
        ")\n",
        "WHERE daily_vaccinations IS NULL;\n",
        "UPDATE country_vaccination_stats\n",
        "SET daily_vaccinations = 0\n",
        "WHERE daily_vaccinations IS NULL;"
      ]
    }
  ]
}