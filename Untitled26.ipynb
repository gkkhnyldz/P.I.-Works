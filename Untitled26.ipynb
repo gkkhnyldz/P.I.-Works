{
  "nbformat": 4,
  "nbformat_minor": 0,
  "metadata": {
    "colab": {
      "provenance": [],
      "authorship_tag": "ABX9TyMKNdTNRS8B+XVCLd4GRVl5",
      "include_colab_link": true
    },
    "kernelspec": {
      "name": "python3",
      "display_name": "Python 3"
    },
    "language_info": {
      "name": "python"
    }
  },
  "cells": [
    {
      "cell_type": "markdown",
      "metadata": {
        "id": "view-in-github",
        "colab_type": "text"
      },
      "source": [
        "<a href=\"https://colab.research.google.com/github/gkkhnyldz/P.I.-Works/blob/main/Untitled26.ipynb\" target=\"_parent\"><img src=\"https://colab.research.google.com/assets/colab-badge.svg\" alt=\"Open In Colab\"/></a>"
      ]
    },
    {
      "cell_type": "code",
      "execution_count": 2,
      "metadata": {
        "colab": {
          "base_uri": "https://localhost:8080/"
        },
        "id": "pnaFpdk1qTW_",
        "outputId": "7af6dc08-cb74-4196-ab9e-5cceec1ed43f"
      },
      "outputs": [
        {
          "output_type": "stream",
          "name": "stdout",
          "text": [
            "country\n",
            "United States    399093.0\n",
            "China            299107.5\n",
            "India            182551.5\n",
            "Name: daily_vaccinations, dtype: float64\n"
          ]
        }
      ],
      "source": [
        "import pandas as pd\n",
        "ourdata = pd.read_csv(\"country_vaccination_stats.csv\")\n",
        "media_n = ourdata.groupby(\"country\")[\"daily_vaccinations\"].median()\n",
        "ourdata[\"daily_vaccinations\"].fillna(ourdata[\"country\"].map(media_n), inplace=True)\n",
        "\n",
        "topmedian_3 = ourdata.groupby(\"country\")[\"daily_vaccinations\"].median().sort_values(ascending=False).head(3)\n",
        "print(topmedian_3)\n"
      ]
    }
  ]
}