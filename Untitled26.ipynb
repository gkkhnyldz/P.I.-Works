{
  "nbformat": 4,
  "nbformat_minor": 0,
  "metadata": {
    "colab": {
      "provenance": [],
      "authorship_tag": "ABX9TyPZsEViVOyw8eybOFZrTJXd",
      "include_colab_link": true
    },
    "kernelspec": {
      "name": "python3",
      "display_name": "Python 3"
    },
    "language_info": {
      "name": "python"
    }
  },
  "cells": [
    {
      "cell_type": "markdown",
      "metadata": {
        "id": "view-in-github",
        "colab_type": "text"
      },
      "source": [
        "<a href=\"https://colab.research.google.com/github/gkkhnyldz/P.I.-Works/blob/main/Untitled26.ipynb\" target=\"_parent\"><img src=\"https://colab.research.google.com/assets/colab-badge.svg\" alt=\"Open In Colab\"/></a>"
      ]
    },
    {
      "cell_type": "code",
      "execution_count": null,
      "metadata": {
        "id": "pnaFpdk1qTW_"
      },
      "outputs": [],
      "source": [
        "import pandas as pd\n",
        "\n",
        "media_n = data.groupby(\"country\")[\"daily_vaccinations\"].median()\n",
        "data[\"daily_vaccinations\"].fillna(data[\"country\"].map(media_n), inplace=True)\n",
        "\n",
        "topmedian_3 = data.groupby(\"country\")[\"daily_vaccinations\"].median().sort_values(ascending=False).head(3)\n",
        "print(topmedian_3)\n"
      ]
    }
  ]
}